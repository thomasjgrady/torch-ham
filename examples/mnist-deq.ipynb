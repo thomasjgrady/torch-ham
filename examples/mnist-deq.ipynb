{
 "cells": [
  {
   "cell_type": "code",
   "execution_count": 1,
   "id": "d20b7f51",
   "metadata": {},
   "outputs": [],
   "source": [
    "%load_ext autoreload"
   ]
  },
  {
   "cell_type": "code",
   "execution_count": 2,
   "id": "364852eb",
   "metadata": {},
   "outputs": [],
   "source": [
    "from collections import defaultdict\n",
    "from torch_ham import HAM\n",
    "from torch_ham.synapses import HopfieldSynapse, HopfieldWeight\n",
    "from torch_ham.neurons import SphericalNormNeuron, SoftmaxNeuron\n",
    "from torch_ham.optimization import deq_fixed_point\n",
    "from torchvision import transforms\n",
    "from torchvision import datasets\n",
    "from tqdm.auto import tqdm\n",
    "\n",
    "import matplotlib.pyplot as plt\n",
    "import numpy as np\n",
    "import os\n",
    "import torch\n",
    "import torch.nn.functional as F"
   ]
  },
  {
   "cell_type": "code",
   "execution_count": 8,
   "id": "7c264b20",
   "metadata": {},
   "outputs": [
    {
     "name": "stdout",
     "output_type": "stream",
     "text": [
      "#params = 203264\n"
     ]
    }
   ],
   "source": [
    "# ==== Create model ====\n",
    "n_image = 28*28 # Number of pixes in image\n",
    "n_classes = 10  # Number of digit classes\n",
    "n_hidden = 256  # Number of hidden layers\n",
    "\n",
    "device = torch.device('cuda')\n",
    "dtype = torch.float32\n",
    "\n",
    "neurons = {\n",
    "    'image': SphericalNormNeuron(shape=(n_image,)),\n",
    "    'label': SoftmaxNeuron(shape=(n_classes,), beta=0.005)\n",
    "}\n",
    "\n",
    "synapses = {\n",
    "    's0': HopfieldSynapse(\n",
    "        HopfieldWeight(n_in=n_image, n_hid=n_hidden, device=device, dtype=dtype),\n",
    "        HopfieldWeight(n_in=n_classes, n_hid=n_hidden, device=device, dtype=dtype),\n",
    "        beta=7.0\n",
    "    )\n",
    "}\n",
    "\n",
    "connections = {\n",
    "    's0': ['image', 'label']\n",
    "}\n",
    "\n",
    "model = HAM(neurons, synapses, connections)\n",
    "\n",
    "print(f'#params = {sum(p.numel() for p in model.parameters())}')"
   ]
  },
  {
   "cell_type": "code",
   "execution_count": 9,
   "id": "78cde94c",
   "metadata": {},
   "outputs": [],
   "source": [
    "# ==== Load data ====\n",
    "batch_size = 1000\n",
    "\n",
    "transform = transforms.Compose([transforms.ToTensor()])\n",
    "train_set = datasets.MNIST(os.path.expanduser('~/data'), train=True, download=True, transform=transform)\n",
    "test_set = datasets.MNIST(os.path.expanduser('~/data'), train=False, transform=transform)\n",
    "train_loader = torch.utils.data.DataLoader(train_set, batch_size=batch_size)\n",
    "test_loader = torch.utils.data.DataLoader(test_set, batch_size=batch_size)"
   ]
  },
  {
   "cell_type": "code",
   "execution_count": 10,
   "id": "dfc6aba7",
   "metadata": {},
   "outputs": [],
   "source": [
    "# ==== Setup optimizer ====\n",
    "optim = torch.optim.AdamW(model.parameters(), lr=1e-3, weight_decay=1e-4)"
   ]
  },
  {
   "cell_type": "code",
   "execution_count": 11,
   "id": "bab19412",
   "metadata": {},
   "outputs": [
    {
     "data": {
      "application/vnd.jupyter.widget-view+json": {
       "model_id": "28bbe3f0714547768466ba4fb67cc576",
       "version_major": 2,
       "version_minor": 0
      },
      "text/plain": [
       "0it [00:00, ?it/s]"
      ]
     },
     "metadata": {},
     "output_type": "display_data"
    },
    {
     "ename": "RuntimeError",
     "evalue": "One of the differentiated Tensors appears to not have been used in the graph. Set allow_unused=True if this is the desired behavior.",
     "output_type": "error",
     "traceback": [
      "\u001b[0;31m---------------------------------------------------------------------------\u001b[0m",
      "\u001b[0;31mRuntimeError\u001b[0m                              Traceback (most recent call last)",
      "Cell \u001b[0;32mIn [11], line 19\u001b[0m\n\u001b[1;32m     16\u001b[0m loss \u001b[38;5;241m=\u001b[39m F\u001b[38;5;241m.\u001b[39mcross_entropy(states[\u001b[38;5;124m'\u001b[39m\u001b[38;5;124mlabel\u001b[39m\u001b[38;5;124m'\u001b[39m], y_in, ignore_index\u001b[38;5;241m=\u001b[39m\u001b[38;5;241m-\u001b[39m\u001b[38;5;241m1\u001b[39m)\n\u001b[1;32m     18\u001b[0m optim\u001b[38;5;241m.\u001b[39mzero_grad()\n\u001b[0;32m---> 19\u001b[0m \u001b[43mloss\u001b[49m\u001b[38;5;241;43m.\u001b[39;49m\u001b[43mbackward\u001b[49m\u001b[43m(\u001b[49m\u001b[43m)\u001b[49m\n\u001b[1;32m     20\u001b[0m optim\u001b[38;5;241m.\u001b[39mstep()\n\u001b[1;32m     21\u001b[0m pbar\u001b[38;5;241m.\u001b[39mset_description(\u001b[38;5;124mf\u001b[39m\u001b[38;5;124m'\u001b[39m\u001b[38;5;124mloss = \u001b[39m\u001b[38;5;132;01m{\u001b[39;00mloss\u001b[38;5;241m.\u001b[39mitem()\u001b[38;5;132;01m:\u001b[39;00m\u001b[38;5;124m2.6f\u001b[39m\u001b[38;5;132;01m}\u001b[39;00m\u001b[38;5;124m'\u001b[39m)\n",
      "File \u001b[0;32m~/miniconda3/envs/research/lib/python3.10/site-packages/torch/_tensor.py:488\u001b[0m, in \u001b[0;36mTensor.backward\u001b[0;34m(self, gradient, retain_graph, create_graph, inputs)\u001b[0m\n\u001b[1;32m    478\u001b[0m \u001b[38;5;28;01mif\u001b[39;00m has_torch_function_unary(\u001b[38;5;28mself\u001b[39m):\n\u001b[1;32m    479\u001b[0m     \u001b[38;5;28;01mreturn\u001b[39;00m handle_torch_function(\n\u001b[1;32m    480\u001b[0m         Tensor\u001b[38;5;241m.\u001b[39mbackward,\n\u001b[1;32m    481\u001b[0m         (\u001b[38;5;28mself\u001b[39m,),\n\u001b[0;32m   (...)\u001b[0m\n\u001b[1;32m    486\u001b[0m         inputs\u001b[38;5;241m=\u001b[39minputs,\n\u001b[1;32m    487\u001b[0m     )\n\u001b[0;32m--> 488\u001b[0m \u001b[43mtorch\u001b[49m\u001b[38;5;241;43m.\u001b[39;49m\u001b[43mautograd\u001b[49m\u001b[38;5;241;43m.\u001b[39;49m\u001b[43mbackward\u001b[49m\u001b[43m(\u001b[49m\n\u001b[1;32m    489\u001b[0m \u001b[43m    \u001b[49m\u001b[38;5;28;43mself\u001b[39;49m\u001b[43m,\u001b[49m\u001b[43m \u001b[49m\u001b[43mgradient\u001b[49m\u001b[43m,\u001b[49m\u001b[43m \u001b[49m\u001b[43mretain_graph\u001b[49m\u001b[43m,\u001b[49m\u001b[43m \u001b[49m\u001b[43mcreate_graph\u001b[49m\u001b[43m,\u001b[49m\u001b[43m \u001b[49m\u001b[43minputs\u001b[49m\u001b[38;5;241;43m=\u001b[39;49m\u001b[43minputs\u001b[49m\n\u001b[1;32m    490\u001b[0m \u001b[43m\u001b[49m\u001b[43m)\u001b[49m\n",
      "File \u001b[0;32m~/miniconda3/envs/research/lib/python3.10/site-packages/torch/autograd/__init__.py:197\u001b[0m, in \u001b[0;36mbackward\u001b[0;34m(tensors, grad_tensors, retain_graph, create_graph, grad_variables, inputs)\u001b[0m\n\u001b[1;32m    192\u001b[0m     retain_graph \u001b[38;5;241m=\u001b[39m create_graph\n\u001b[1;32m    194\u001b[0m \u001b[38;5;66;03m# The reason we repeat same the comment below is that\u001b[39;00m\n\u001b[1;32m    195\u001b[0m \u001b[38;5;66;03m# some Python versions print out the first line of a multi-line function\u001b[39;00m\n\u001b[1;32m    196\u001b[0m \u001b[38;5;66;03m# calls in the traceback and some print out the last line\u001b[39;00m\n\u001b[0;32m--> 197\u001b[0m \u001b[43mVariable\u001b[49m\u001b[38;5;241;43m.\u001b[39;49m\u001b[43m_execution_engine\u001b[49m\u001b[38;5;241;43m.\u001b[39;49m\u001b[43mrun_backward\u001b[49m\u001b[43m(\u001b[49m\u001b[43m  \u001b[49m\u001b[38;5;66;43;03m# Calls into the C++ engine to run the backward pass\u001b[39;49;00m\n\u001b[1;32m    198\u001b[0m \u001b[43m    \u001b[49m\u001b[43mtensors\u001b[49m\u001b[43m,\u001b[49m\u001b[43m \u001b[49m\u001b[43mgrad_tensors_\u001b[49m\u001b[43m,\u001b[49m\u001b[43m \u001b[49m\u001b[43mretain_graph\u001b[49m\u001b[43m,\u001b[49m\u001b[43m \u001b[49m\u001b[43mcreate_graph\u001b[49m\u001b[43m,\u001b[49m\u001b[43m \u001b[49m\u001b[43minputs\u001b[49m\u001b[43m,\u001b[49m\n\u001b[1;32m    199\u001b[0m \u001b[43m    \u001b[49m\u001b[43mallow_unreachable\u001b[49m\u001b[38;5;241;43m=\u001b[39;49m\u001b[38;5;28;43;01mTrue\u001b[39;49;00m\u001b[43m,\u001b[49m\u001b[43m \u001b[49m\u001b[43maccumulate_grad\u001b[49m\u001b[38;5;241;43m=\u001b[39;49m\u001b[38;5;28;43;01mTrue\u001b[39;49;00m\u001b[43m)\u001b[49m\n",
      "File \u001b[0;32m~/miniconda3/envs/research/lib/python3.10/site-packages/torch/autograd/function.py:267\u001b[0m, in \u001b[0;36mBackwardCFunction.apply\u001b[0;34m(self, *args)\u001b[0m\n\u001b[1;32m    263\u001b[0m     \u001b[38;5;28;01mraise\u001b[39;00m \u001b[38;5;167;01mRuntimeError\u001b[39;00m(\u001b[38;5;124m\"\u001b[39m\u001b[38;5;124mImplementing both \u001b[39m\u001b[38;5;124m'\u001b[39m\u001b[38;5;124mbackward\u001b[39m\u001b[38;5;124m'\u001b[39m\u001b[38;5;124m and \u001b[39m\u001b[38;5;124m'\u001b[39m\u001b[38;5;124mvjp\u001b[39m\u001b[38;5;124m'\u001b[39m\u001b[38;5;124m for a custom \u001b[39m\u001b[38;5;124m\"\u001b[39m\n\u001b[1;32m    264\u001b[0m                        \u001b[38;5;124m\"\u001b[39m\u001b[38;5;124mFunction is not allowed. You should only implement one \u001b[39m\u001b[38;5;124m\"\u001b[39m\n\u001b[1;32m    265\u001b[0m                        \u001b[38;5;124m\"\u001b[39m\u001b[38;5;124mof them.\u001b[39m\u001b[38;5;124m\"\u001b[39m)\n\u001b[1;32m    266\u001b[0m user_fn \u001b[38;5;241m=\u001b[39m vjp_fn \u001b[38;5;28;01mif\u001b[39;00m vjp_fn \u001b[38;5;129;01mis\u001b[39;00m \u001b[38;5;129;01mnot\u001b[39;00m Function\u001b[38;5;241m.\u001b[39mvjp \u001b[38;5;28;01melse\u001b[39;00m backward_fn\n\u001b[0;32m--> 267\u001b[0m \u001b[38;5;28;01mreturn\u001b[39;00m \u001b[43muser_fn\u001b[49m\u001b[43m(\u001b[49m\u001b[38;5;28;43mself\u001b[39;49m\u001b[43m,\u001b[49m\u001b[43m \u001b[49m\u001b[38;5;241;43m*\u001b[39;49m\u001b[43margs\u001b[49m\u001b[43m)\u001b[49m\n",
      "File \u001b[0;32m~/research/torch-ham/torch_ham/optimization.py:113\u001b[0m, in \u001b[0;36mDEQFixedPoint.backward\u001b[0;34m(ctx, *y)\u001b[0m\n\u001b[1;32m     98\u001b[0m \u001b[38;5;129m@staticmethod\u001b[39m\n\u001b[1;32m     99\u001b[0m \u001b[38;5;28;01mdef\u001b[39;00m \u001b[38;5;21mbackward\u001b[39m(ctx: Any, \u001b[38;5;241m*\u001b[39my: Tensor) \u001b[38;5;241m-\u001b[39m\u001b[38;5;241m>\u001b[39m Tuple[Tensor]:\n\u001b[1;32m    100\u001b[0m \n\u001b[0;32m   (...)\u001b[0m\n\u001b[1;32m    108\u001b[0m     \u001b[38;5;66;03m#   (I − ∂f(z*,θ)/∂z*)⁻ᵀy ≈ (∂f(z*,θ)/∂z*)ᵀy\u001b[39;00m\n\u001b[1;32m    109\u001b[0m     \u001b[38;5;66;03m#\u001b[39;00m\n\u001b[1;32m    110\u001b[0m     \u001b[38;5;28;01mwith\u001b[39;00m torch\u001b[38;5;241m.\u001b[39menable_grad():\n\u001b[1;32m    111\u001b[0m \n\u001b[1;32m    112\u001b[0m         \u001b[38;5;66;03m# Compute the jtvp dz = (I − ∂f(z*,θ)/∂z*)⁻ᵀy ≈ (∂f(z*,θ)/∂z*)ᵀy\u001b[39;00m\n\u001b[0;32m--> 113\u001b[0m         dz \u001b[38;5;241m=\u001b[39m \u001b[43mtorch\u001b[49m\u001b[38;5;241;43m.\u001b[39;49m\u001b[43mautograd\u001b[49m\u001b[38;5;241;43m.\u001b[39;49m\u001b[43mgrad\u001b[49m\u001b[43m(\u001b[49m\u001b[43mctx\u001b[49m\u001b[38;5;241;43m.\u001b[39;49m\u001b[43mf0_sorted\u001b[49m\u001b[43m,\u001b[49m\u001b[43m \u001b[49m\u001b[43mctx\u001b[49m\u001b[38;5;241;43m.\u001b[39;49m\u001b[43mz0_sorted\u001b[49m\u001b[43m,\u001b[49m\u001b[43m \u001b[49m\u001b[43my\u001b[49m\u001b[43m,\u001b[49m\u001b[43m \u001b[49m\u001b[43mretain_graph\u001b[49m\u001b[38;5;241;43m=\u001b[39;49m\u001b[38;5;28;43;01mTrue\u001b[39;49;00m\u001b[43m)\u001b[49m\n\u001b[1;32m    115\u001b[0m         \u001b[38;5;66;03m# Compute the jtvp dθ = (∂f(z*,θ)/∂θ)ᵀdz. Note that in torch, you use\u001b[39;00m\n\u001b[1;32m    116\u001b[0m         \u001b[38;5;66;03m# stateful `autograd.backward` to compute this quantity!\u001b[39;00m\n\u001b[1;32m    117\u001b[0m         torch\u001b[38;5;241m.\u001b[39mautograd\u001b[38;5;241m.\u001b[39mbackward(ctx\u001b[38;5;241m.\u001b[39mf0_sorted, ctx\u001b[38;5;241m.\u001b[39mz0_sorted, dz)\n",
      "File \u001b[0;32m~/miniconda3/envs/research/lib/python3.10/site-packages/torch/autograd/__init__.py:300\u001b[0m, in \u001b[0;36mgrad\u001b[0;34m(outputs, inputs, grad_outputs, retain_graph, create_graph, only_inputs, allow_unused, is_grads_batched)\u001b[0m\n\u001b[1;32m    298\u001b[0m     \u001b[38;5;28;01mreturn\u001b[39;00m _vmap_internals\u001b[38;5;241m.\u001b[39m_vmap(vjp, \u001b[38;5;241m0\u001b[39m, \u001b[38;5;241m0\u001b[39m, allow_none_pass_through\u001b[38;5;241m=\u001b[39m\u001b[38;5;28;01mTrue\u001b[39;00m)(grad_outputs_)\n\u001b[1;32m    299\u001b[0m \u001b[38;5;28;01melse\u001b[39;00m:\n\u001b[0;32m--> 300\u001b[0m     \u001b[38;5;28;01mreturn\u001b[39;00m \u001b[43mVariable\u001b[49m\u001b[38;5;241;43m.\u001b[39;49m\u001b[43m_execution_engine\u001b[49m\u001b[38;5;241;43m.\u001b[39;49m\u001b[43mrun_backward\u001b[49m\u001b[43m(\u001b[49m\u001b[43m  \u001b[49m\u001b[38;5;66;43;03m# Calls into the C++ engine to run the backward pass\u001b[39;49;00m\n\u001b[1;32m    301\u001b[0m \u001b[43m        \u001b[49m\u001b[43mt_outputs\u001b[49m\u001b[43m,\u001b[49m\u001b[43m \u001b[49m\u001b[43mgrad_outputs_\u001b[49m\u001b[43m,\u001b[49m\u001b[43m \u001b[49m\u001b[43mretain_graph\u001b[49m\u001b[43m,\u001b[49m\u001b[43m \u001b[49m\u001b[43mcreate_graph\u001b[49m\u001b[43m,\u001b[49m\u001b[43m \u001b[49m\u001b[43mt_inputs\u001b[49m\u001b[43m,\u001b[49m\n\u001b[1;32m    302\u001b[0m \u001b[43m        \u001b[49m\u001b[43mallow_unused\u001b[49m\u001b[43m,\u001b[49m\u001b[43m \u001b[49m\u001b[43maccumulate_grad\u001b[49m\u001b[38;5;241;43m=\u001b[39;49m\u001b[38;5;28;43;01mFalse\u001b[39;49;00m\u001b[43m)\u001b[49m\n",
      "\u001b[0;31mRuntimeError\u001b[0m: One of the differentiated Tensors appears to not have been used in the graph. Set allow_unused=True if this is the desired behavior."
     ]
    }
   ],
   "source": [
    "%autoreload\n",
    "# Run training\n",
    "n_epochs = 4\n",
    "n_batches = 60_000 // batch_size\n",
    "\n",
    "for e in range(n_epochs):\n",
    "    pbar = tqdm(enumerate(train_loader))\n",
    "    for i, (x, y) in pbar:\n",
    "        \n",
    "        x_in = x.view(batch_size, n_image).to(device=device, dtype=dtype).requires_grad_(True)\n",
    "        y_in = y.to(device=device, dtype=torch.long)\n",
    "\n",
    "        states = model.init_states(batch_size=batch_size, exclude={'image'}, device=device, dtype=dtype, requires_grad=True)\n",
    "        states['image'] = x_in.requires_grad_()\n",
    "        states = deq_fixed_point(model, states)\n",
    "        loss = F.cross_entropy(states['label'], y_in, ignore_index=-1)\n",
    "\n",
    "        optim.zero_grad()\n",
    "        loss.backward()\n",
    "        optim.step()\n",
    "        pbar.set_description(f'loss = {loss.item():2.6f}')"
   ]
  },
  {
   "cell_type": "code",
   "execution_count": null,
   "id": "2997e56c",
   "metadata": {},
   "outputs": [],
   "source": [
    "%matplotlib notebook\n",
    "x, y = train_set[0]\n",
    "plt.imshow(x.detach().cpu().numpy().squeeze(), cmap='seismic')\n",
    "plt.title(f'{y}')"
   ]
  },
  {
   "cell_type": "code",
   "execution_count": null,
   "id": "cb32ab7c",
   "metadata": {},
   "outputs": [],
   "source": [
    "# Label a digit using the trained energy model\n",
    "\n",
    "# Inititalize states to input image\n",
    "states = model.init_states(batch_size=1, exclude={'image'}, device=device, dtype=dtype, requires_grad=True)\n",
    "states['image'] = x.view(1, n_image).to(device=device, dtype=dtype).requires_grad_(True)\n",
    "\n",
    "# Run standard gradient descent\n",
    "states = gradient_descent(\n",
    "    model,\n",
    "    states,\n",
    "    max_iter=200,\n",
    "    alpha=defaultdict(lambda: 1),\n",
    "    pin={'image'},\n",
    "    tol=1e-3,\n",
    "    create_graph=False,\n",
    "    return_history=True\n",
    ")\n",
    "\n",
    "energies = [model.energy(s, model.activations(s)).item() for s in states]\n",
    "pred = torch.argmax(model.activations(states[-1])['label'])\n",
    "\n",
    "print(f'y_true = {y}, y_pred = {pred.item()}')\n",
    "plt.figure()\n",
    "plt.plot(energies)"
   ]
  },
  {
   "cell_type": "code",
   "execution_count": null,
   "id": "31ed0fa9",
   "metadata": {},
   "outputs": [],
   "source": [
    "# Generate a digit using the trained energy model\n",
    "digit = 3\n",
    "\n",
    "# Inititalize states to a vector of ones and a value of 1000 in the `digit` index\n",
    "states = model.init_states(batch_size=1, exclude={'label'}, device=device, dtype=dtype, requires_grad=True)\n",
    "states['label'] = torch.full((1, n_classes,), fill_value=1, device=device, dtype=dtype, requires_grad=False)\n",
    "states['label'][0,digit] = 1000\n",
    "states['label'].requires_grad = True\n",
    "\n",
    "# Run standard gradient descent\n",
    "states = gradient_descent(\n",
    "    model,\n",
    "    states,\n",
    "    max_iter=200,\n",
    "    alpha=defaultdict(lambda: 1.0),\n",
    "    pin={'label'},\n",
    "    tol=1e-3,\n",
    "    create_graph=False,\n",
    "    return_history=True\n",
    ")\n",
    "\n",
    "energies = [model.energy(s, model.activations(s)).item() for s in states]\n",
    "img = model.activations(states[-1])['image']\n",
    "\n",
    "plt.figure()\n",
    "plt.subplot(121)\n",
    "plt.plot(energies)\n",
    "plt.subplot(122)\n",
    "plt.imshow(img.detach().cpu().view(1, 28, 28).squeeze().numpy(), cmap='seismic')"
   ]
  }
 ],
 "metadata": {
  "kernelspec": {
   "display_name": "Python 3 (ipykernel)",
   "language": "python",
   "name": "python3"
  },
  "language_info": {
   "codemirror_mode": {
    "name": "ipython",
    "version": 3
   },
   "file_extension": ".py",
   "mimetype": "text/x-python",
   "name": "python",
   "nbconvert_exporter": "python",
   "pygments_lexer": "ipython3",
   "version": "3.10.6"
  }
 },
 "nbformat": 4,
 "nbformat_minor": 5
}
