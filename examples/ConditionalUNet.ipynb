{
 "cells": [
  {
   "cell_type": "code",
   "execution_count": 1,
   "id": "48cff7ef",
   "metadata": {},
   "outputs": [],
   "source": [
    "%load_ext autoreload"
   ]
  },
  {
   "cell_type": "code",
   "execution_count": 2,
   "id": "65effa40",
   "metadata": {},
   "outputs": [],
   "source": [
    "from torch_ham.models import ConditionalUNet"
   ]
  },
  {
   "cell_type": "code",
   "execution_count": null,
   "id": "8c9b45fd",
   "metadata": {},
   "outputs": [],
   "source": [
    "model = ConditionalUNet(\n",
    "    input_size = (128, 128),\n",
    "    condition_size = (,\n",
    "    kernel_size: Union[int, Tuple[int]],\n",
    "    downsample: Union[int, Tuple[int]],\n",
    "    depth: int,\n",
    "    in_channels: int = 1,\n",
    "    channel_scale: int = 1,\n",
    ")"
   ]
  }
 ],
 "metadata": {
  "kernelspec": {
   "display_name": "Python 3 (ipykernel)",
   "language": "python",
   "name": "python3"
  },
  "language_info": {
   "codemirror_mode": {
    "name": "ipython",
    "version": 3
   },
   "file_extension": ".py",
   "mimetype": "text/x-python",
   "name": "python",
   "nbconvert_exporter": "python",
   "pygments_lexer": "ipython3",
   "version": "3.10.4"
  }
 },
 "nbformat": 4,
 "nbformat_minor": 5
}
